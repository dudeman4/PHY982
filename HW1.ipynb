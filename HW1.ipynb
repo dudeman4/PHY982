{
 "cells": [
  {
   "cell_type": "code",
   "execution_count": 10,
   "metadata": {
    "collapsed": false
   },
   "outputs": [
    {
     "name": "stdout",
     "output_type": "stream",
     "text": [
      "\n"
     ]
    }
   ],
   "source": [
    "%matplotlib inline\n",
    "\n",
    "import matplotlib.pyplot as plt\n",
    "import numpy as np\n",
    "import numpy.matlib\n",
    "from pylab import *\n",
    "import scipy.special\n",
    "import cmath"
   ]
  },
  {
   "cell_type": "code",
   "execution_count": 183,
   "metadata": {
    "collapsed": false
   },
   "outputs": [],
   "source": [
    "# Set the numerical parameters\n",
    "RMin = 0.0\n",
    "RMax = 10.0\n",
    "RMatch = RMax\n",
    "lOrbital = 2\n",
    "Step = 0.1\n",
    "Dim = (RMax-RMin)/Step\n",
    "\n",
    "# Define your physical parameters\n",
    "hc = 197.32705\n",
    "beta = 0.0478450\n",
    "Rws = 1.2 * 10.0**(0.3333) # This assumes that 10Be is independent from that other neutron\n",
    "aws = 0.65\n",
    "V0 = -61.1\n",
    "E = 0.1\n",
    "\n",
    "# Set your initial conditions\n",
    "y0 = 0\n",
    "yprime0 = 1\n",
    "\n",
    "# Here we set up the harmonic oscillator potential\n",
    "def f(R,v):\n",
    "    F = np.matlib.zeros((2,2))\n",
    "    F[0,1] = 1\n",
    "    F[1,0] = lOrbital*(lOrbital+1)/(R*R) + beta * ( V0/(1+exp( (R-Rws)/aws )) - E);\n",
    "    return F*v\n"
   ]
  },
  {
   "cell_type": "code",
   "execution_count": 184,
   "metadata": {
    "collapsed": true
   },
   "outputs": [],
   "source": [
    "# Define your Hankel functions in terms of the cylindrical Bessel functions\n",
    "def F(l,r):\n",
    "    return (math.pi*r/2)**(0.5)*scipy.special.jv(l,r)\n",
    "def G(l,r):\n",
    "    return -(math.pi*r/2)**(0.5)*scipy.special.yv(l,r)\n",
    "\n",
    "def Hplus(l,r):\n",
    "    return G(l,r) + 1j*F(l,r)\n",
    "def Hminus(l,r):\n",
    "    return G(l,r) - 1j*F(l,r)\n",
    "\n",
    "# And also define their derivatives\n",
    "def Fprime(l,r):\n",
    "    return 0.5*(math.pi*r/2)**(-0.5)*scipy.special.jv(l,r) + (math.pi*r/2)**(0.5)*scipy.special.jvp(0, r, 1)\n",
    "def Gprime(l,r):\n",
    "    return -0.5*(math.pi*r/2)**(-0.5)*scipy.special.yv(l,r) - (math.pi*r/2)**(0.5)*scipy.special.yvp(0, r, 1)\n",
    "\n",
    "def Hplusp(l,r):\n",
    "    return Gprime(l,r) + 1j*Fprime(l,r)\n",
    "def Hminusp(l,r):\n",
    "    return Gprime(l,r) - 1j*Fprime(l,r)"
   ]
  },
  {
   "cell_type": "code",
   "execution_count": 185,
   "metadata": {
    "collapsed": false
   },
   "outputs": [],
   "source": [
    "# Runge-Kutta\n",
    "\n",
    "# Start the algorithm with your initial conditions\n",
    "y = np.matlib.zeros((2,int(Dim)))\n",
    "y[0,0] = y0\n",
    "y[1,0] = yprime0\n",
    "\n",
    "r = np.linspace(RMin,RMax,Dim)\n",
    "\n",
    "for i in xrange(1,int(Dim)):\n",
    "#    print r[i]\n",
    "    k1 = f(r[i],y[:,i-1])\n",
    "    k2 = f(r[i] + Step/2, y[:,i-1] + Step/2*k1)\n",
    "    k3 = f(r[i] + Step/2, y[:,i-1] + Step/2*k2)\n",
    "    k4 = f(r[i] + Step, y[:,i-1] + Step*k3)\n",
    "    y[:,i] = y[:,i-1] + Step/6 * (k1 + 2*k2 + 2*k3 + k4)\n",
    "#    print k1, k2, k3, k4\n",
    "#    print y\n"
   ]
  },
  {
   "cell_type": "code",
   "execution_count": 191,
   "metadata": {
    "collapsed": false
   },
   "outputs": [
    {
     "name": "stdout",
     "output_type": "stream",
     "text": [
      "The S-matrix element is $S_L$ =  (0.703170898926+0.711020876559j)\n",
      "which has magnitude 1.0 and corresponds to a phase $\\delta_L = $ (0.395474482159+4.16333634234e-17j)\n"
     ]
    }
   ],
   "source": [
    "# Match the solution for r < RMatch (which you get from Runge-Kutta) to the asymptotic solution for r > RMatch\n",
    "mat = np.zeros((2,2), dtype=complex)\n",
    "mat[0,0] = y[0,int(Dim-1)]\n",
    "mat[1,0] = y[1,int(Dim-1)]\n",
    "mat[0,1] = Hplus(lOrbital, RMatch)\n",
    "mat[1,1] = Hplusp(lOrbital, RMatch)\n",
    "\n",
    "vec = np.zeros((2,1), dtype=complex)\n",
    "vec[0,0] = Hminus(lOrbital, RMatch)\n",
    "vec[1,0] = Hminusp(lOrbital, RMatch)\n",
    "\n",
    "\n",
    "params = np.dot(np.linalg.inv(mat),vec)\n",
    "cl = params[0,0] # This is the scaling factor to account for your derivative guess at R=0, such that u'(0)=cl*y'(0)\n",
    "Sl = params[1,0] # This is your S-matrix value\n",
    "print 'The S-matrix element is $S_L$ = ', Sl # See eqns 6.1.7 and 6.1.8 in Filomena's book for details\n",
    "print 'which has magnitude', abs(Sl), 'and corresponds to a phase $\\delta_L = $', 1/(2*1j)*cmath.log(Sl)"
   ]
  },
  {
   "cell_type": "code",
   "execution_count": 187,
   "metadata": {
    "collapsed": false
   },
   "outputs": [
    {
     "data": {
      "image/png": "[encoded data removed]",
      "text/plain": [
       "<matplotlib.figure.Figure at 0x7f739ed25f90>"
      ]
     },
     "metadata": {},
     "output_type": "display_data"
    }
   ],
   "source": [
    "plt.plot(r, (cl*y.A[0,:]).real, 'b-')\n",
    "plt.plot(r+RMatch, (Hminus(lOrbital,r+RMatch)-Sl*Hplus(lOrbital,r+RMatch)).real, 'b--')\n",
    "plt.xlabel(r'$r\\ (fm)$')\n",
    "plt.ylabel(r'$u_L(r)$')\n",
    "plt.title(r'Scattering wavefunction for L = %s (real part)' %(lOrbital))\n",
    "#plt.savefig('realpart.pdf')\n",
    "#plt.savefig('realpart.png')\n",
    "plt.show()"
   ]
  },
  {
   "cell_type": "code",
   "execution_count": 188,
   "metadata": {
    "collapsed": false
   },
   "outputs": [
    {
     "data": {
      "image/png": "[encoded data removed]",
      "text/plain": [
       "<matplotlib.figure.Figure at 0x7f739e3ca950>"
      ]
     },
     "metadata": {},
     "output_type": "display_data"
    }
   ],
   "source": [
    "plt.plot(r, (cl*y.A[0,:]).imag, 'b-')\n",
    "plt.plot(r+RMatch, (Hminus(lOrbital,r+RMatch)-Sl*Hplus(lOrbital,r+RMatch)).imag, 'b--')\n",
    "plt.xlabel(r'$r\\ (fm)$')\n",
    "plt.ylabel(r'$u_L(r)$')\n",
    "plt.title(r'Scattering wavefunction for L = %s (imaginary part)' %(lOrbital))\n",
    "#plt.savefig('imagpart.pdf')\n",
    "#plt.savefig('imagpart.png')\n",
    "plt.show()"
   ]
  },
  {
   "cell_type": "code",
   "execution_count": 189,
   "metadata": {
    "collapsed": false
   },
   "outputs": [
    {
     "data": {
      "image/png": "[encoded data removed]",
      "text/plain": [
       "<matplotlib.figure.Figure at 0x7f739e56ef50>"
      ]
     },
     "metadata": {},
     "output_type": "display_data"
    }
   ],
   "source": [
    "plt.plot(r, abs(cl*y.A[0,:]), 'b-')\n",
    "plt.plot(r+RMatch, abs(Hminus(lOrbital,r+RMatch)-Sl*Hplus(lOrbital,r+RMatch)), 'b--')\n",
    "plt.xlabel(r'$r\\ (fm)$')\n",
    "plt.ylabel(r'$u_L(r)$')\n",
    "plt.title(r'Scattering wavefunction for L = %s (magnitude)' %(lOrbital))\n",
    "#plt.savefig('magnitude.pdf')\n",
    "#plt.savefig('magnitude.png')\n",
    "plt.show()"
   ]
  },
  {
   "cell_type": "code",
   "execution_count": 190,
   "metadata": {
    "collapsed": false
   },
   "outputs": [
    {
     "name": "stdout",
     "output_type": "stream",
     "text": [
      "(0.724453768782-1.7353478882j)\n",
      "(0.724453768782-1.7353478882j)\n",
      "(0.19350294804-0.463514646086j)\n",
      "(0.19350294804-0.463514646086j)\n"
     ]
    }
   ],
   "source": [
    "print cl*y.A[0,int(Dim-1)]\n",
    "print Hminus(lOrbital,RMatch)-Sl*Hplus(lOrbital,RMatch)\n",
    "\n",
    "print cl*y.A[1,int(Dim-1)]\n",
    "print Hminusp(lOrbital,RMatch)-Sl*Hplusp(lOrbital,RMatch)"
   ]
  },
  {
   "cell_type": "code",
   "execution_count": 148,
   "metadata": {
    "collapsed": false
   },
   "outputs": [
    {
     "data": {
      "text/plain": [
       "array([[  0.00000000e+00 +0.00000000e+00j,\n",
       "          3.96004477e-19 +1.98002239e-19j,\n",
       "          9.67009711e-19 +4.83504856e-19j,\n",
       "          1.72022648e-18 +8.60113241e-19j,\n",
       "          2.63534684e-18 +1.31767342e-18j,\n",
       "          3.68292416e-18 +1.84146208e-18j,\n",
       "          4.82813234e-18 +2.41406617e-18j,\n",
       "          6.03265858e-18 +3.01632929e-18j,\n",
       "          7.25625413e-18 +3.62812706e-18j,\n",
       "          8.45820762e-18 +4.22910381e-18j,\n",
       "          9.59877344e-18 +4.79938672e-18j,\n",
       "          1.06405284e-17 +5.32026419e-18j,\n",
       "          1.15496132e-17 +5.77480659e-18j,\n",
       "          1.22968115e-17 +6.14840576e-18j,\n",
       "          1.28584219e-17 +6.42921093e-18j,\n",
       "          1.32168843e-17 +6.60844214e-18j,\n",
       "          1.33611343e-17 +6.68056714e-18j,\n",
       "          1.32866687e-17 +6.64333436e-18j,\n",
       "          1.29953241e-17 +6.49766204e-18j,\n",
       "          1.24947843e-17 +6.24739213e-18j,\n",
       "          1.17978511e-17 +5.89892553e-18j,\n",
       "          1.09215268e-17 +5.46076338e-18j,\n",
       "          9.88596965e-18 +4.94298482e-18j,\n",
       "          8.71339111e-18 +4.35669555e-18j,\n",
       "          7.42696427e-18 +3.71348214e-18j,\n",
       "          6.04980932e-18 +3.02490466e-18j,\n",
       "          4.60410960e-18 +2.30205480e-18j,\n",
       "          3.11039741e-18 +1.55519871e-18j,\n",
       "          1.58703026e-18 +7.93515131e-19j,\n",
       "          4.98605664e-20 +2.49302832e-20j,\n",
       "         -1.48791398e-18 -7.43956990e-19j,\n",
       "         -3.01574412e-18 -1.50787206e-18j,\n",
       "         -4.52559884e-18 -2.26279942e-18j,\n",
       "         -6.01174594e-18 -3.00587297e-18j,\n",
       "         -7.47047663e-18 -3.73523832e-18j,\n",
       "         -8.89980371e-18 -4.44990185e-18j,\n",
       "         -1.02991566e-17 -5.14957831e-18j,\n",
       "         -1.16690911e-17 -5.83454553e-18j,\n",
       "         -1.30110246e-17 -6.50551232e-18j,\n",
       "         -1.43270049e-17 -7.16350246e-18j,\n",
       "         -1.56195125e-17 -7.80975624e-18j,\n",
       "         -1.68912985e-17 -8.44564923e-18j,\n",
       "         -1.81452544e-17 -9.07262720e-18j,\n",
       "         -1.93843107e-17 -9.69215536e-18j,\n",
       "         -2.06113599e-17 -1.03056800e-17j,\n",
       "         -2.18292008e-17 -1.09146004e-17j,\n",
       "         -2.30404994e-17 -1.15202497e-17j,\n",
       "         -2.42477636e-17 -1.21238818e-17j,\n",
       "         -2.54533287e-17 -1.27266644e-17j,\n",
       "         -2.66593503e-17 -1.33296751e-17j,\n",
       "         -2.78678039e-17 -1.39339019e-17j,\n",
       "         -2.90804889e-17 -1.45402444e-17j,\n",
       "         -3.02990350e-17 -1.51495175e-17j,\n",
       "         -3.15249115e-17 -1.57624557e-17j,\n",
       "         -3.27594369e-17 -1.63797184e-17j,\n",
       "         -3.40037897e-17 -1.70018949e-17j,\n",
       "         -3.52590197e-17 -1.76295098e-17j,\n",
       "         -3.65260579e-17 -1.82630289e-17j,\n",
       "         -3.78057276e-17 -1.89028638e-17j,\n",
       "         -3.90987541e-17 -1.95493771e-17j,\n",
       "         -4.04057738e-17 -2.02028869e-17j,\n",
       "         -4.17273428e-17 -2.08636714e-17j,\n",
       "         -4.30639455e-17 -2.15319728e-17j,\n",
       "         -4.44160012e-17 -2.22080006e-17j,\n",
       "         -4.57838711e-17 -2.28919355e-17j,\n",
       "         -4.71678645e-17 -2.35839323e-17j,\n",
       "         -4.85682444e-17 -2.42841222e-17j,\n",
       "         -4.99852320e-17 -2.49926160e-17j,\n",
       "         -5.14190117e-17 -2.57095059e-17j,\n",
       "         -5.28697349e-17 -2.64348675e-17j,\n",
       "         -5.43375236e-17 -2.71687618e-17j,\n",
       "         -5.58224738e-17 -2.79112369e-17j,\n",
       "         -5.73246580e-17 -2.86623290e-17j,\n",
       "         -5.88441281e-17 -2.94220641e-17j,\n",
       "         -6.03809179e-17 -3.01904590e-17j,\n",
       "         -6.19350445e-17 -3.09675222e-17j,\n",
       "         -6.35065105e-17 -3.17532552e-17j,\n",
       "         -6.50953057e-17 -3.25476529e-17j,\n",
       "         -6.67014083e-17 -3.33507042e-17j,\n",
       "         -6.83247863e-17 -3.41623931e-17j,\n",
       "         -6.99653984e-17 -3.49826992e-17j,\n",
       "         -7.16231953e-17 -3.58115976e-17j,\n",
       "         -7.32981204e-17 -3.66490602e-17j,\n",
       "         -7.49901105e-17 -3.74950552e-17j,\n",
       "         -7.66990967e-17 -3.83495483e-17j,\n",
       "         -7.84250048e-17 -3.92125024e-17j,\n",
       "         -8.01677558e-17 -4.00838779e-17j,\n",
       "         -8.19272668e-17 -4.09636334e-17j,\n",
       "         -8.37034507e-17 -4.18517253e-17j,\n",
       "         -8.54962171e-17 -4.27481086e-17j,\n",
       "         -8.73054726e-17 -4.36527363e-17j,\n",
       "         -8.91311207e-17 -4.45655604e-17j,\n",
       "         -9.09730626e-17 -4.54865313e-17j,\n",
       "         -9.28311967e-17 -4.64155984e-17j,\n",
       "         -9.47054197e-17 -4.73527098e-17j,\n",
       "         -9.65956258e-17 -4.82978129e-17j,\n",
       "         -9.85017077e-17 -4.92508539e-17j,\n",
       "         -1.00423556e-16 -5.02117781e-17j,\n",
       "         -1.02361060e-16 -5.11805302e-17j,\n",
       "         -1.04314108e-16 -5.21570541e-17j],\n",
       "       [  3.46944695e-18 +1.73472348e-18j,\n",
       "          4.77756189e-18 +2.38878095e-18j,\n",
       "          6.64475701e-18 +3.32237850e-18j,\n",
       "          8.38580041e-18 +4.19290021e-18j,\n",
       "          9.86841387e-18 +4.93420693e-18j,\n",
       "          1.10259425e-17 +5.51297125e-18j,\n",
       "          1.18150915e-17 +5.90754576e-18j,\n",
       "          1.22089542e-17 +6.10447711e-18j,\n",
       "          1.21956024e-17 +6.09780119e-18j,\n",
       "          1.17776362e-17 +5.88881810e-18j,\n",
       "          1.09716473e-17 +5.48582367e-18j,\n",
       "          9.80729785e-18 +4.90364893e-18j,\n",
       "          8.32593120e-18 +4.16296560e-18j,\n",
       "          6.57871590e-18 +3.28935795e-18j,\n",
       "          4.62437004e-18 +2.31218502e-18j,\n",
       "          2.52655159e-18 +1.26327580e-18j,\n",
       "          3.51030297e-19 +1.75515148e-19j,\n",
       "         -1.83721674e-18 -9.18608371e-19j,\n",
       "         -3.97682478e-18 -1.98841239e-18j,\n",
       "         -6.01260749e-18 -3.00630375e-18j,\n",
       "         -7.89770623e-18 -3.94885312e-18j,\n",
       "         -9.59518235e-18 -4.79759117e-18j,\n",
       "         -1.10789520e-17 -5.53947601e-18j,\n",
       "         -1.23340179e-17 -6.16700893e-18j,\n",
       "         -1.33560143e-17 -6.67800714e-18j,\n",
       "         -1.41501475e-17 -7.07507374e-18j,\n",
       "         -1.47296644e-17 -7.36483221e-18j,\n",
       "         -1.51140214e-17 -7.55701072e-18j,\n",
       "         -1.53269356e-17 -7.66346781e-18j,\n",
       "         -1.53944906e-17 -7.69724531e-18j,\n",
       "         -1.53434378e-17 -7.67171888e-18j,\n",
       "         -1.51997887e-17 -7.59989437e-18j,\n",
       "         -1.49877489e-17 -7.49387445e-18j,\n",
       "         -1.47289965e-17 -7.36449823e-18j,\n",
       "         -1.44422788e-17 -7.22113939e-18j,\n",
       "         -1.41432750e-17 -7.07163750e-18j,\n",
       "         -1.38446639e-17 -6.92233197e-18j,\n",
       "         -1.35563357e-17 -6.77816787e-18j,\n",
       "         -1.32856920e-17 -6.64284599e-18j,\n",
       "         -1.30379886e-17 -6.51899429e-18j,\n",
       "         -1.28166873e-17 -6.40834365e-18j,\n",
       "         -1.26237917e-17 -6.31189584e-18j,\n",
       "         -1.24601531e-17 -6.23007653e-18j,\n",
       "         -1.23257384e-17 -6.16286920e-18j,\n",
       "         -1.22198581e-17 -6.10992904e-18j,\n",
       "         -1.21413542e-17 -6.07067712e-18j,\n",
       "         -1.20887528e-17 -6.04437640e-18j,\n",
       "         -1.20603838e-17 -6.03019189e-18j,\n",
       "         -1.20544740e-17 -6.02723700e-18j,\n",
       "         -1.20692172e-17 -6.03460860e-18j,\n",
       "         -1.21028255e-17 -6.05141273e-18j,\n",
       "         -1.21535657e-17 -6.07678285e-18j,\n",
       "         -1.22197846e-17 -6.10989231e-18j,\n",
       "         -1.22999245e-17 -6.14996224e-18j,\n",
       "         -1.23925320e-17 -6.19626598e-18j,\n",
       "         -1.24962621e-17 -6.24813106e-18j,\n",
       "         -1.26098784e-17 -6.30493920e-18j,\n",
       "         -1.27322500e-17 -6.36612502e-18j,\n",
       "         -1.28623479e-17 -6.43117393e-18j,\n",
       "         -1.29992386e-17 -6.49961931e-18j,\n",
       "         -1.31420789e-17 -6.57103945e-18j,\n",
       "         -1.32901085e-17 -6.64505427e-18j,\n",
       "         -1.34426441e-17 -6.72132203e-18j,\n",
       "         -1.35990722e-17 -6.79953608e-18j,\n",
       "         -1.37588435e-17 -6.87942176e-18j,\n",
       "         -1.39214668e-17 -6.96073339e-18j,\n",
       "         -1.40865031e-17 -7.04325154e-18j,\n",
       "         -1.42535608e-17 -7.12678040e-18j,\n",
       "         -1.44222908e-17 -7.21114541e-18j,\n",
       "         -1.45923822e-17 -7.29619108e-18j,\n",
       "         -1.47635580e-17 -7.38177898e-18j,\n",
       "         -1.49355719e-17 -7.46778594e-18j,\n",
       "         -1.51082047e-17 -7.55410237e-18j,\n",
       "         -1.52812616e-17 -7.64063082e-18j,\n",
       "         -1.54545693e-17 -7.72728464e-18j,\n",
       "         -1.56279735e-17 -7.81398673e-18j,\n",
       "         -1.58013371e-17 -7.90066855e-18j,\n",
       "         -1.59745381e-17 -7.98726907e-18j,\n",
       "         -1.61474680e-17 -8.07373400e-18j,\n",
       "         -1.63200299e-17 -8.16001493e-18j,\n",
       "         -1.64921375e-17 -8.24606874e-18j,\n",
       "         -1.66637139e-17 -8.33185693e-18j,\n",
       "         -1.68346902e-17 -8.41734510e-18j,\n",
       "         -1.70050049e-17 -8.50250247e-18j,\n",
       "         -1.71746030e-17 -8.58730148e-18j,\n",
       "         -1.73434347e-17 -8.67171736e-18j,\n",
       "         -1.75114557e-17 -8.75572786e-18j,\n",
       "         -1.76786258e-17 -8.83931291e-18j,\n",
       "         -1.78449087e-17 -8.92245437e-18j,\n",
       "         -1.80102716e-17 -9.00513581e-18j,\n",
       "         -1.81746846e-17 -9.08734230e-18j,\n",
       "         -1.83381205e-17 -9.16906024e-18j,\n",
       "         -1.85005544e-17 -9.25027718e-18j,\n",
       "         -1.86619634e-17 -9.33098169e-18j,\n",
       "         -1.88223265e-17 -9.41116327e-18j,\n",
       "         -1.89816244e-17 -9.49081219e-18j,\n",
       "         -1.91398388e-17 -9.56991942e-18j,\n",
       "         -1.92969531e-17 -9.64847655e-18j,\n",
       "         -1.94529514e-17 -9.72647571e-18j,\n",
       "         -1.96078190e-17 -9.80390952e-18j]])"
      ]
     },
     "execution_count": 148,
     "metadata": {},
     "output_type": "execute_result"
    }
   ],
   "source": [
    "cl*y.A"
   ]
  },
  {
   "cell_type": "code",
   "execution_count": null,
   "metadata": {
    "collapsed": true
   },
   "outputs": [],
   "source": []
  }
 ],
 "metadata": {
  "kernelspec": {
   "display_name": "Python 2",
   "language": "python",
   "name": "python2"
  },
  "language_info": {
   "codemirror_mode": {
    "name": "ipython",
    "version": 2
   },
   "file_extension": ".py",
   "mimetype": "text/x-python",
   "name": "python",
   "nbconvert_exporter": "python",
   "pygments_lexer": "ipython2",
   "version": "2.7.6"
  }
 },
 "nbformat": 4,
 "nbformat_minor": 0
}
