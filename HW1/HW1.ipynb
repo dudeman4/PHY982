{
 "cells": [
  {
   "cell_type": "code",
   "execution_count": 10,
   "metadata": {
    "collapsed": false
   },
   "outputs": [
    {
     "name": "stdout",
     "output_type": "stream",
     "text": [
      "\n"
     ]
    }
   ],
   "source": [
    "%matplotlib inline\n",
    "\n",
    "import matplotlib.pyplot as plt\n",
    "import numpy as np\n",
    "import numpy.matlib\n",
    "from pylab import *\n",
    "import scipy.special\n",
    "import cmath"
   ]
  },
  {
   "cell_type": "code",
   "execution_count": 66,
   "metadata": {
    "collapsed": false
   },
   "outputs": [],
   "source": [
    "# Set the numerical parameters\n",
    "RMin = 0.0\n",
    "RMax = 10.0\n",
    "RMatch = RMax\n",
    "lOrbital = 0\n",
    "Step = 0.1\n",
    "Dim = (RMax-RMin)/Step\n",
    "\n",
    "# Define your physical parameters\n",
    "hc = 197.32705\n",
    "beta = 0.0478450\n",
    "Rws = 1.2 * 10.0**(0.3333) # This assumes that 10Be is independent from that other neutron\n",
    "aws = 0.65\n",
    "V0 = -61.1\n",
    "E = 0.1\n",
    "\n",
    "# Set your initial conditions\n",
    "y0 = 0\n",
    "yprime0 = 1\n",
    "\n",
    "# Here we set up the harmonic oscillator potential\n",
    "def f(R,v):\n",
    "    F = np.matlib.zeros((2,2))\n",
    "    F[0,1] = 1\n",
    "    F[1,0] = lOrbital*(lOrbital+1)/(R*R) + beta * ( V0/(1+exp( (R-Rws)/aws )) - E);\n",
    "    return F*v\n"
   ]
  },
  {
   "cell_type": "code",
   "execution_count": 67,
   "metadata": {
    "collapsed": true
   },
   "outputs": [],
   "source": [
    "# Define your Hankel functions in terms of the cylindrical Bessel functions\n",
    "def F(l,r):\n",
    "    return (math.pi*r/2)**(0.5)*scipy.special.jv(l,r)\n",
    "def G(l,r):\n",
    "    return -(math.pi*r/2)**(0.5)*scipy.special.yv(l,r)\n",
    "\n",
    "def Hplus(l,r):\n",
    "    return G(l,r) + 1j*F(l,r)\n",
    "def Hminus(l,r):\n",
    "    return G(l,r) - 1j*F(l,r)\n",
    "\n",
    "# And also define their derivatives\n",
    "def Fprime(l,r):\n",
    "    return 0.5*(math.pi*r/2)**(-0.5)*scipy.special.jv(l,r) + (math.pi*r/2)**(0.5)*scipy.special.jvp(0, r, 1)\n",
    "def Gprime(l,r):\n",
    "    return -0.5*(math.pi*r/2)**(-0.5)*scipy.special.yv(l,r) - (math.pi*r/2)**(0.5)*scipy.special.yvp(0, r, 1)\n",
    "\n",
    "def Hplusp(l,r):\n",
    "    return Gprime(l,r) + 1j*Fprime(l,r)\n",
    "def Hminusp(l,r):\n",
    "    return Gprime(l,r) - 1j*Fprime(l,r)"
   ]
  },
  {
   "cell_type": "code",
   "execution_count": 68,
   "metadata": {
    "collapsed": false
   },
   "outputs": [],
   "source": [
    "y = np.matlib.zeros((2,int(Dim)))\n",
    "y[0,0] = y0\n",
    "y[1,0] = yprime0\n",
    "\n",
    "\n",
    "r = np.linspace(RMin,RMax,Dim)\n",
    "for i in xrange(1,int(Dim)):\n",
    "#    print r[i]\n",
    "    k1 = f(r[i],y[:,i-1])\n",
    "    k2 = f(r[i] + Step/2, y[:,i-1] + Step/2*k1)\n",
    "    k3 = f(r[i] + Step/2, y[:,i-1] + Step/2*k2)\n",
    "    k4 = f(r[i] + Step, y[:,i-1] + Step*k3)\n",
    "    y[:,i] = y[:,i-1] + Step/6 * (k1 + 2*k2 + 2*k3 + k4)\n",
    "#    print k1, k2, k3, k4\n",
    "#    print y\n"
   ]
  },
  {
   "cell_type": "code",
   "execution_count": 77,
   "metadata": {
    "collapsed": false
   },
   "outputs": [
    {
     "name": "stdout",
     "output_type": "stream",
     "text": [
      "The S-matrix element is $S_L$ =  (0.698728050737-0.715387385347j)\n",
      "which has magnitude 1.0 and corresponds to a phase $delta_L = $ (-0.398589182166-4.16333634234e-17j)\n"
     ]
    }
   ],
   "source": [
    "mat = np.zeros((2,2), dtype=complex)\n",
    "mat[0,0] = y[0,int(Dim-1)]\n",
    "mat[1,0] = y[1,int(Dim-1)]\n",
    "mat[0,1] = Hplus(lOrbital, RMatch)\n",
    "mat[1,1] = Hplusp(lOrbital, RMatch)\n",
    "\n",
    "vec = np.zeros((2,1), dtype=complex)\n",
    "vec[0,0] = Hminus(lOrbital, RMatch)\n",
    "vec[1,0] = Hminusp(lOrbital, RMatch)\n",
    "\n",
    "\n",
    "params = np.dot(np.linalg.inv(mat),vec)\n",
    "cl = params[0,0]\n",
    "Sl = params[1,0] # The other vector component is the scaling factor to account for your derivative guess at R=0\n",
    "print 'The S-matrix element is $S_L$ = ', Sl         # See eqns 6.1.7 and 6.1.8 in Filomena's book for details\n",
    "print 'which has magnitude', abs(Sl), 'and corresponds to a phase $delta_L = $', 1/(2*1j)*cmath.log(Sl)"
   ]
  },
  {
   "cell_type": "code",
   "execution_count": 80,
   "metadata": {
    "collapsed": false
   },
   "outputs": [
    {
     "name": "stdout",
     "output_type": "stream",
     "text": [
      "(2.15384040257+5.11441658546j)\n",
      "(0.630831638924+1.49794561979j)\n",
      "(0.630831638924+1.49794561979j)\n"
     ]
    }
   ],
   "source": [
    "#print mat; vec; cl\n",
    "print cl\n",
    "print cl*y.A[0,int(Dim-1)]\n",
    "print Hminus(lOrbital,RMatch)-Sl*Hplus(lOrbital,RMatch)"
   ]
  },
  {
   "cell_type": "code",
   "execution_count": 81,
   "metadata": {
    "collapsed": false
   },
   "outputs": [
    {
     "data": {
      "text/plain": [
       "[<matplotlib.lines.Line2D at 0x7f739efba8d0>]"
      ]
     },
     "execution_count": 81,
     "metadata": {},
     "output_type": "execute_result"
    },
    {
     "data": {
      "image/png": "[encoded data removed]",
      "text/plain": [
       "<matplotlib.figure.Figure at 0x7f739f38db10>"
      ]
     },
     "metadata": {},
     "output_type": "display_data"
    }
   ],
   "source": [
    "plt.plot(r, cl*y.A[0,:], 'b-')\n",
    "plt.plot(r+RMatch, Hminus(lOrbital,r+RMatch)-Sl*Hplus(lOrbital,r+RMatch), 'b--')"
   ]
  },
  {
   "cell_type": "code",
   "execution_count": 7,
   "metadata": {
    "collapsed": false
   },
   "outputs": [],
   "source": [
    "#plt.plot(r, y.A[0,:], 'b-') #y.A Turns the matrix into an array\n",
    "#plt.axis([0,4.6,0.0, 0.025])\n",
    "#plt.xlabel(r'$r$')\n",
    "#plt.ylabel(r'$u_L(r)$')\n",
    "#plt.title(r'Radial probability distributions for three lowest-lying states')\n",
    "#plt.savefig('eigenvector.pdf')\n",
    "#plt.savefig('eigenvector.png')\n",
    "#plt.show()"
   ]
  }
 ],
 "metadata": {
  "kernelspec": {
   "display_name": "Python 2",
   "language": "python",
   "name": "python2"
  },
  "language_info": {
   "codemirror_mode": {
    "name": "ipython",
    "version": 2
   },
   "file_extension": ".py",
   "mimetype": "text/x-python",
   "name": "python",
   "nbconvert_exporter": "python",
   "pygments_lexer": "ipython2",
   "version": "2.7.6"
  }
 },
 "nbformat": 4,
 "nbformat_minor": 0
}
